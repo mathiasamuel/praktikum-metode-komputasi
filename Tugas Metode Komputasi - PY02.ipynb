{
 "cells": [
  {
   "cell_type": "markdown",
   "id": "1eddeda5",
   "metadata": {},
   "source": [
    "<p style=\"text-align: center;\">Tugas Metode Komputasi : PY02</p>"
   ]
  },
  {
   "cell_type": "markdown",
   "id": "12da3a17",
   "metadata": {},
   "source": [
    "TUGAS I"
   ]
  },
  {
   "cell_type": "markdown",
   "id": "aa1b4d8c",
   "metadata": {},
   "source": [
    "Buatlah suatu program sederhana untuk menyelesaikan :\n",
    "\n",
    "<ol>\n",
    "<li>Mencari Kontur Interval (CI) dengan memberikan masukan oleh user berupa penyebut skala </li>\n",
    "<li>Mencari mencari nilai ketinggian(h) dan kecepatan(v) setelah bola dilemparkan dengan h0 = 8 m dan v0 = 2 m/s dengan variasi t yakni 0.5 s, lebih dari 0.5 s, dan lebih dari 2s. Besar g =9.8 </li>\n",
    "</ol>"
   ]
  },
  {
   "cell_type": "markdown",
   "id": "9ba32bc6",
   "metadata": {},
   "source": [
    "$$h = h_0 + V_0t-\\frac12 gt^2$$"
   ]
  },
  {
   "cell_type": "markdown",
   "id": "116bb453",
   "metadata": {},
   "source": [
    "$$v = v_0 - gt$$"
   ]
  },
  {
   "cell_type": "markdown",
   "id": "5a9d8996",
   "metadata": {},
   "source": [
    "Script code :"
   ]
  },
  {
   "cell_type": "code",
   "execution_count": null,
   "id": "b884014b",
   "metadata": {},
   "outputs": [],
   "source": []
  },
  {
   "cell_type": "markdown",
   "id": "15a61e1f",
   "metadata": {},
   "source": [
    "Pembahasan Tugas I:"
   ]
  },
  {
   "cell_type": "code",
   "execution_count": null,
   "id": "94a367cb",
   "metadata": {},
   "outputs": [],
   "source": []
  },
  {
   "cell_type": "markdown",
   "id": "ce64ab2f",
   "metadata": {},
   "source": [
    "TUGAS II"
   ]
  },
  {
   "cell_type": "markdown",
   "id": "3ec40675",
   "metadata": {},
   "source": [
    " 1. Membuat plot sederhana lokasi gempa berdasarkan data Gempa BMKG dari data excel yang telah dibagikan"
   ]
  },
  {
   "cell_type": "markdown",
   "id": "cb4d9513",
   "metadata": {},
   "source": [
    "Script code:"
   ]
  },
  {
   "cell_type": "code",
   "execution_count": null,
   "id": "4d45193d",
   "metadata": {},
   "outputs": [],
   "source": []
  },
  {
   "cell_type": "markdown",
   "id": "426068c6",
   "metadata": {},
   "source": [
    "Pembahasan Tugas II :"
   ]
  },
  {
   "cell_type": "code",
   "execution_count": null,
   "id": "bd5db149",
   "metadata": {},
   "outputs": [],
   "source": []
  },
  {
   "cell_type": "markdown",
   "id": "6d8aa4ac",
   "metadata": {},
   "source": [
    "Notes :\n",
    "\n",
    "1. Kerjakan semua script disini, dikumpulkan dengan semua kernel telah di run.\n",
    "2. Judul file diganti PY02_Nama Lengkap_NIU.ipynb\n",
    "3. File dikumpulkan dalam format .ipynb pada laman google classroom"
   ]
  }
 ],
 "metadata": {
  "kernelspec": {
   "display_name": "Python 3",
   "language": "python",
   "name": "python3"
  },
  "language_info": {
   "codemirror_mode": {
    "name": "ipython",
    "version": 3
   },
   "file_extension": ".py",
   "mimetype": "text/x-python",
   "name": "python",
   "nbconvert_exporter": "python",
   "pygments_lexer": "ipython3",
   "version": "3.8.5"
  }
 },
 "nbformat": 4,
 "nbformat_minor": 5
}
